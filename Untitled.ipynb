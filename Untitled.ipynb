{
 "cells": [
  {
   "cell_type": "code",
   "execution_count": 7,
   "id": "7fa08e46",
   "metadata": {},
   "outputs": [],
   "source": [
    "import torch\n",
    "import torch.nn as nn\n",
    "import math"
   ]
  },
  {
   "cell_type": "code",
   "execution_count": 12,
   "id": "db9da246",
   "metadata": {},
   "outputs": [
    {
     "data": {
      "text/plain": [
       "tensor([[0.],\n",
       "        [1.],\n",
       "        [2.],\n",
       "        [3.],\n",
       "        [4.],\n",
       "        [5.],\n",
       "        [6.],\n",
       "        [7.],\n",
       "        [8.],\n",
       "        [9.]])"
      ]
     },
     "execution_count": 12,
     "metadata": {},
     "output_type": "execute_result"
    }
   ],
   "source": [
    "a = torch.arange(0, 10, dtype=torch.float).unsqueeze(1)\n",
    "a"
   ]
  },
  {
   "cell_type": "code",
   "execution_count": 13,
   "id": "af943d82",
   "metadata": {},
   "outputs": [
    {
     "data": {
      "text/plain": [
       "tensor([1.0000e+00, 1.5849e-01, 2.5119e-02, 3.9811e-03, 6.3096e-04])"
      ]
     },
     "execution_count": 13,
     "metadata": {},
     "output_type": "execute_result"
    }
   ],
   "source": [
    "b = torch.exp(torch.arange(0, 10, 2).float() * (-math.log(10000.0) / 10))\n",
    "b"
   ]
  },
  {
   "cell_type": "code",
   "execution_count": 16,
   "id": "119a8238",
   "metadata": {},
   "outputs": [
    {
     "data": {
      "text/plain": [
       "tensor([0.0000, 0.2376, 0.4753, 0.7129, 0.9506, 1.1882, 1.4259, 1.6635, 1.9012,\n",
       "        2.1388])"
      ]
     },
     "execution_count": 16,
     "metadata": {},
     "output_type": "execute_result"
    }
   ],
   "source": [
    "(a * b).mean(dim=-1)"
   ]
  },
  {
   "cell_type": "code",
   "execution_count": 17,
   "id": "1ee7eaef",
   "metadata": {},
   "outputs": [
    {
     "data": {
      "text/plain": [
       "tensor([[0.0000e+00, 0.0000e+00, 0.0000e+00, 0.0000e+00, 0.0000e+00],\n",
       "        [1.0000e+00, 1.5849e-01, 2.5119e-02, 3.9811e-03, 6.3096e-04],\n",
       "        [2.0000e+00, 3.1698e-01, 5.0238e-02, 7.9621e-03, 1.2619e-03],\n",
       "        [3.0000e+00, 4.7547e-01, 7.5357e-02, 1.1943e-02, 1.8929e-03],\n",
       "        [4.0000e+00, 6.3396e-01, 1.0048e-01, 1.5924e-02, 2.5238e-03],\n",
       "        [5.0000e+00, 7.9245e-01, 1.2559e-01, 1.9905e-02, 3.1548e-03],\n",
       "        [6.0000e+00, 9.5094e-01, 1.5071e-01, 2.3886e-02, 3.7857e-03],\n",
       "        [7.0000e+00, 1.1094e+00, 1.7583e-01, 2.7868e-02, 4.4167e-03],\n",
       "        [8.0000e+00, 1.2679e+00, 2.0095e-01, 3.1849e-02, 5.0477e-03],\n",
       "        [9.0000e+00, 1.4264e+00, 2.2607e-01, 3.5830e-02, 5.6786e-03]])"
      ]
     },
     "execution_count": 17,
     "metadata": {},
     "output_type": "execute_result"
    }
   ],
   "source": [
    "(a * b)"
   ]
  },
  {
   "cell_type": "code",
   "execution_count": 19,
   "id": "58ce1cb7",
   "metadata": {},
   "outputs": [
    {
     "data": {
      "text/plain": [
       "tensor([0.0000, 0.2376, 0.4753, 0.7129, 0.9506, 1.1882, 1.4259, 1.6635, 1.9012,\n",
       "        2.1388])"
      ]
     },
     "execution_count": 19,
     "metadata": {},
     "output_type": "execute_result"
    }
   ],
   "source": [
    "(a * b).mean(dim=1)"
   ]
  },
  {
   "cell_type": "code",
   "execution_count": 20,
   "id": "106cabb3",
   "metadata": {},
   "outputs": [
    {
     "data": {
      "text/plain": [
       "torch.Size([10, 5])"
      ]
     },
     "execution_count": 20,
     "metadata": {},
     "output_type": "execute_result"
    }
   ],
   "source": [
    "(a * b).shape"
   ]
  },
  {
   "cell_type": "code",
   "execution_count": 24,
   "id": "b2717e4d",
   "metadata": {},
   "outputs": [
    {
     "data": {
      "text/plain": [
       "tensor([[[0.0317, 0.5830, 0.7288, 0.9505, 0.7247, 0.2265, 0.2590, 0.1719,\n",
       "          0.5165, 0.2979],\n",
       "         [0.2913, 0.2197, 0.5540, 0.5688, 0.3041, 0.2876, 0.5438, 0.6335,\n",
       "          0.2376, 0.9389],\n",
       "         [0.6835, 0.8632, 0.0427, 0.1332, 0.0728, 0.5645, 0.7665, 0.8580,\n",
       "          0.8169, 0.0353],\n",
       "         [0.4943, 0.1857, 0.1866, 0.8190, 0.0089, 0.6784, 0.9758, 0.1263,\n",
       "          0.8757, 0.4695]],\n",
       "\n",
       "        [[0.5951, 0.1621, 0.3479, 0.4505, 0.1902, 0.4626, 0.4011, 0.8066,\n",
       "          0.2859, 0.8781],\n",
       "         [0.1413, 0.2418, 0.7087, 0.1751, 0.5390, 0.3066, 0.3042, 0.4560,\n",
       "          0.7994, 0.8557],\n",
       "         [0.8366, 0.8523, 0.5211, 0.3006, 0.8441, 0.0043, 0.5073, 0.1227,\n",
       "          0.9209, 0.6608],\n",
       "         [0.9278, 0.0082, 0.9559, 0.4635, 0.2179, 0.0284, 0.7078, 0.5348,\n",
       "          0.9173, 0.2634]]])"
      ]
     },
     "execution_count": 24,
     "metadata": {},
     "output_type": "execute_result"
    }
   ],
   "source": [
    "x = torch.rand(2, 4, 10)\n",
    "x"
   ]
  },
  {
   "cell_type": "code",
   "execution_count": 25,
   "id": "6bccb51b",
   "metadata": {},
   "outputs": [],
   "source": [
    "linear_1 = nn.Linear(10, 8)"
   ]
  },
  {
   "cell_type": "code",
   "execution_count": 29,
   "id": "c2317ae3",
   "metadata": {},
   "outputs": [
    {
     "data": {
      "text/plain": [
       "tensor([[[-0.4592, -0.3816, -0.1054, -0.2663,  0.0982, -0.2862,  0.5985,\n",
       "          -0.0614],\n",
       "         [-0.3863, -0.1429, -0.0266, -0.2869, -0.0324, -0.2429,  0.6161,\n",
       "           0.0553],\n",
       "         [-0.2065,  0.2238, -0.0411,  0.0530,  0.4821,  0.3008,  0.7708,\n",
       "           0.1948],\n",
       "         [-0.2205, -0.3217, -0.0091, -0.0708,  0.2992, -0.3388,  0.5176,\n",
       "           0.0463]],\n",
       "\n",
       "        [[-0.4325, -0.0245,  0.0165, -0.2089,  0.0079, -0.0900,  0.7273,\n",
       "           0.0999],\n",
       "         [-0.2001, -0.1230,  0.1430, -0.2408, -0.1315, -0.1831,  0.7298,\n",
       "          -0.0766],\n",
       "         [-0.2971,  0.0269, -0.0541, -0.5601, -0.0237, -0.0023,  0.7757,\n",
       "           0.2145],\n",
       "         [-0.2058, -0.0978, -0.2572, -0.3645,  0.0841,  0.1217,  0.7905,\n",
       "           0.1146]]], grad_fn=<ViewBackward0>)"
      ]
     },
     "execution_count": 29,
     "metadata": {},
     "output_type": "execute_result"
    }
   ],
   "source": [
    "linear_1(x)"
   ]
  },
  {
   "cell_type": "code",
   "execution_count": 28,
   "id": "137790e8",
   "metadata": {},
   "outputs": [
    {
     "data": {
      "text/plain": [
       "tensor([[[0.0000, 0.0000, 0.0000, 0.0000, 0.0982, 0.0000, 0.5985, 0.0000],\n",
       "         [0.0000, 0.0000, 0.0000, 0.0000, 0.0000, 0.0000, 0.6161, 0.0553],\n",
       "         [0.0000, 0.2238, 0.0000, 0.0530, 0.4821, 0.3008, 0.7708, 0.1948],\n",
       "         [0.0000, 0.0000, 0.0000, 0.0000, 0.2992, 0.0000, 0.5176, 0.0463]],\n",
       "\n",
       "        [[0.0000, 0.0000, 0.0165, 0.0000, 0.0079, 0.0000, 0.7273, 0.0999],\n",
       "         [0.0000, 0.0000, 0.1430, 0.0000, 0.0000, 0.0000, 0.7298, 0.0000],\n",
       "         [0.0000, 0.0269, 0.0000, 0.0000, 0.0000, 0.0000, 0.7757, 0.2145],\n",
       "         [0.0000, 0.0000, 0.0000, 0.0000, 0.0841, 0.1217, 0.7905, 0.1146]]],\n",
       "       grad_fn=<ReluBackward0>)"
      ]
     },
     "execution_count": 28,
     "metadata": {},
     "output_type": "execute_result"
    }
   ],
   "source": [
    "torch.relu(linear_1(x))"
   ]
  },
  {
   "cell_type": "code",
   "execution_count": 30,
   "id": "6cba8248",
   "metadata": {},
   "outputs": [
    {
     "data": {
      "text/plain": [
       "torch.Size([2, 4, 8])"
      ]
     },
     "execution_count": 30,
     "metadata": {},
     "output_type": "execute_result"
    }
   ],
   "source": [
    "torch.relu(linear_1(x)).shape"
   ]
  },
  {
   "cell_type": "code",
   "execution_count": null,
   "id": "706b0826",
   "metadata": {},
   "outputs": [],
   "source": []
  }
 ],
 "metadata": {
  "kernelspec": {
   "display_name": "Python 3 (ipykernel)",
   "language": "python",
   "name": "python3"
  },
  "language_info": {
   "codemirror_mode": {
    "name": "ipython",
    "version": 3
   },
   "file_extension": ".py",
   "mimetype": "text/x-python",
   "name": "python",
   "nbconvert_exporter": "python",
   "pygments_lexer": "ipython3",
   "version": "3.10.9"
  }
 },
 "nbformat": 4,
 "nbformat_minor": 5
}
